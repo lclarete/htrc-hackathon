{
 "cells": [
  {
   "cell_type": "code",
   "execution_count": 38,
   "id": "e1c83fcf",
   "metadata": {},
   "outputs": [],
   "source": [
    "import requests\n",
    "\n",
    "BASE_URL = \"https://data.htrc.illinois.edu/ef-api\"\n",
    "\n",
    "# FETCH DATA\n",
    "def get_ef_data_by_volume_id(volume_id):\n",
    "    \"\"\"\"Fetches all the data\"\"\"\n",
    "    url = f\"{BASE_URL}/volumes/{volume_id}\"\n",
    "    response = requests.get(url)\n",
    "    return response.json()\n",
    "\n",
    "def check_if_volume_exists(volume_id):\n",
    "    url = f\"{BASE_URL}/volumes/{volume_id}\"\n",
    "    response = requests.head(url)\n",
    "    return response.status_code == 200\n",
    "\n",
    "def get_volume_metadata_by_volume_id(volume_id):\n",
    "    \"\"\"\"Only metadata\"\"\"\n",
    "    url = f\"{BASE_URL}/volumes/{volume_id}/metadata\"\n",
    "    response = requests.get(url)\n",
    "    return response.json()\n",
    "\n",
    "def get_volume_pages_by_volume_id(volume_id):\n",
    "    url = f\"{BASE_URL}/volumes/{volume_id}/pages\"\n",
    "    response = requests.get(url)\n",
    "    return response.json()"
   ]
  },
  {
   "cell_type": "code",
   "execution_count": 35,
   "id": "e301a446",
   "metadata": {},
   "outputs": [],
   "source": [
    "def extract_relevant_info_for_volume(volume_id):\n",
    "    if check_if_volume_exists(volume_id):\n",
    "        ef_data = get_ef_data_by_volume_id(volume_id)\n",
    "        metadata = get_volume_metadata_by_volume_id(volume_id)\n",
    "        \n",
    "        author_name = metadata.get('data', {}).get('metadata', {}).get('contributor', {}).get('name', 'Unknown')\n",
    "        year_of_publication = metadata.get('data', {}).get('metadata', {}).get('pubDate', 'Unknown')\n",
    "        language = metadata.get('data', {}).get('metadata', {}).get('language', 'Unknown')\n",
    "        \n",
    "        token_counts = {}\n",
    "        for page in ef_data.get('data', {}).get('pages', []):\n",
    "            body = page.get('body', {})\n",
    "            tokens_count = body.get('tokensCount', {})\n",
    "            for token, count in tokens_count.items():\n",
    "                if token in token_counts:\n",
    "                    token_counts[token] += count\n",
    "                else:\n",
    "                    token_counts[token] = count\n",
    "\n",
    "        return {\n",
    "            \"volume_id\": volume_id,\n",
    "            \"author_name\": author_name,\n",
    "            \"year_of_publication\": year_of_publication,\n",
    "            \"language\": language,\n",
    "            \"token_counts\": token_counts\n",
    "        }\n",
    "    else:\n",
    "        print(f\"Volume {volume_id} does not exist.\")\n",
    "        return None"
   ]
  },
  {
   "cell_type": "code",
   "execution_count": 39,
   "id": "93a1775b",
   "metadata": {},
   "outputs": [],
   "source": [
    "# WORKSET MANAGEMENT\n",
    "\"\"\"\"\n",
    "id: The workset identifier. Eg. 63e2a4e467720167725e440c\n",
    "htids: The list of volume IDs in the workset. \n",
    "created: The workset creation date/time Eg. 2023-02-07T19:22:13.221Z\n",
    "\"\"\"\n",
    "        \n",
    "def create_workset(data):\n",
    "    url = f\"{BASE_URL}/worksets\"\n",
    "    response = requests.post(url, json=data)\n",
    "    return response.json()\n",
    "\n",
    "def delete_workset_by_id(workset_id):\n",
    "    url = f\"{BASE_URL}/worksets/{workset_id}\"\n",
    "    response = requests.delete(url)\n",
    "    return response.status_code == 204\n",
    "\n",
    "def get_workset_by_id(workset_id):\n",
    "    url = f\"{BASE_URL}/worksets/{workset_id}\"\n",
    "    response = requests.get(url)\n",
    "    return response.json()\n",
    "\n",
    "def get_workset_volumes_by_id(workset_id):\n",
    "    url = f\"{BASE_URL}/worksets/{workset_id}/volumes\"\n",
    "    response = requests.get(url)\n",
    "    return response.json()\n",
    "\n",
    "def get_workset_volumes_aggregated_by_id(workset_id):\n",
    "    url = f\"{BASE_URL}/worksets/{workset_id}/volumes/aggregated\"\n",
    "    response = requests.get(url)\n",
    "    return response.json()\n",
    "\n",
    "def get_workset_volumes_metadata_by_id(workset_id):\n",
    "    url = f\"{BASE_URL}/worksets/{workset_id}/metadata\"\n",
    "    response = requests.get(url)\n",
    "    return response.json()"
   ]
  },
  {
   "cell_type": "code",
   "execution_count": 40,
   "id": "34d25acf",
   "metadata": {},
   "outputs": [],
   "source": [
    "def get_volume_body_tokens(volume_id):\n",
    "    if check_if_volume_exists(volume_id):\n",
    "        ef_data = get_ef_data_by_volume_id(volume_id)\n",
    "        \n",
    "        token_counts = {}\n",
    "        for page in ef_data.get('data', {}).get('pages', []):\n",
    "            body = page.get('body', {})\n",
    "            tokens_count = body.get('tokensCount', {})\n",
    "            for token, count in tokens_count.items():\n",
    "                if token in token_counts:\n",
    "                    token_counts[token] += count\n",
    "                else:\n",
    "                    token_counts[token] = count\n",
    "\n",
    "        return {\n",
    "            \"volume_id\": volume_id,\n",
    "            \"token_counts\": token_counts\n",
    "        }\n",
    "    else:\n",
    "        return {\"error\": f\"Volume {volume_id} does not exist.\"}"
   ]
  },
  {
   "cell_type": "code",
   "execution_count": 41,
   "id": "81ffcb04",
   "metadata": {},
   "outputs": [],
   "source": [
    "volume_ids = \"uc2.ark+=13960=t17m0815m\"\n",
    "volume_info = get_volume_body_tokens(volume_ids)"
   ]
  },
  {
   "cell_type": "code",
   "execution_count": 42,
   "id": "439c8b47",
   "metadata": {},
   "outputs": [
    {
     "data": {
      "text/plain": [
       "{'volume_id': 'uc2.ark+=13960=t17m0815m', 'token_counts': {}}"
      ]
     },
     "execution_count": 42,
     "metadata": {},
     "output_type": "execute_result"
    }
   ],
   "source": [
    "volume_info"
   ]
  },
  {
   "cell_type": "code",
   "execution_count": null,
   "id": "2b2f8e29",
   "metadata": {},
   "outputs": [],
   "source": []
  }
 ],
 "metadata": {
  "kernelspec": {
   "display_name": "Python 3 (ipykernel)",
   "language": "python",
   "name": "python3"
  },
  "language_info": {
   "codemirror_mode": {
    "name": "ipython",
    "version": 3
   },
   "file_extension": ".py",
   "mimetype": "text/x-python",
   "name": "python",
   "nbconvert_exporter": "python",
   "pygments_lexer": "ipython3",
   "version": "3.9.14"
  }
 },
 "nbformat": 4,
 "nbformat_minor": 5
}
